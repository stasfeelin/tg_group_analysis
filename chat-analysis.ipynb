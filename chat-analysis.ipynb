{
 "cells": [
  {
   "cell_type": "markdown",
   "metadata": {},
   "source": [
    "# Use [TeleGram-Scraper](https://github.com/th3unkn0n/TeleGram-Scraper) to export users from a group chat\n",
    "> small adjustment required if you get Flood errors: remove _aggressive=True_ in line 80 of scraper.py [details](https://github.com/LonamiWebs/Telethon/issues/1299#issuecomment-543246208)\n",
    "\n",
    "# Good [start point](https://towardsdatascience.com/a-simple-exploration-of-a-telegram-chat-group-540a1e96ad75) for looking into messages stats \n",
    "\n",
    "---\n",
    "\n",
    "## Tables\n",
    "### members_df - list of group members exported with TeleGram-Scraper\n",
    "    Data columns (total 6 columns):\n",
    "    #   Column       Non-Null Count  Dtype \n",
    "    ---  ------       --------------  ----- \n",
    "    0   username     408 non-null    object\n",
    "    1   user_id      483 non-null    object\n",
    "    2   access_hash  483 non-null    object\n",
    "    3   name         482 non-null    object\n",
    "    4   group        483 non-null    object\n",
    "    5   group_id     483 non-null    object\n",
    "### msg_df - table with all messages including service messages\n",
    "### msg_df_messages - only messages from everyone\n",
    "    Data columns (total 3 columns):\n",
    "    #   Column  Non-Null Count  Dtype \n",
    "    ---  ------  --------------  ----- \n",
    "    0   date    45174 non-null  object\n",
    "    1   text    45174 non-null  object\n",
    "    2   from    45162 non-null  object\n",
    "\n",
    "### msg_df_joined - service messages about joined or added members\n",
    "    Data columns (total 6 columns):\n",
    "    #   Column         Non-Null Count  Dtype \n",
    "    ---  ------         --------------  ----- \n",
    "    0   date           797 non-null    object\n",
    "    1   action         797 non-null    object\n",
    "    2   actor          777 non-null    object\n",
    "    3   added_members  797 non-null    object\n",
    "    4   joiners_count  797 non-null    int64 \n",
    "    5   join_type      797 non-null    object\n",
    "    \n",
    "### msg_df_removed - service messages about removed members (no bans)\n",
    "    Data columns (total 5 columns):\n",
    "    #   Column           Non-Null Count  Dtype \n",
    "    ---  ------           --------------  ----- \n",
    "    0   date             3 non-null      object\n",
    "    1   action           3 non-null      object\n",
    "    2   actor            3 non-null      object\n",
    "    3   deleted_members  3 non-null      object\n",
    "    4   removed_count    3 non-null      int64 \n",
    "\n",
    "### spies - users who wrote zero messages\n",
    "\n",
    "### quitters - users who is not a member of export\n",
    "\n",
    "### current_usr_msgs - messages from actual users (skip quitters)\n",
    "\n",
    "### out_df - df with usernames and number of messages ready for export\n",
    "\n"
   ]
  },
  {
   "cell_type": "code",
   "execution_count": null,
   "metadata": {},
   "outputs": [],
   "source": [
    "import pandas as pd\n",
    "import json\n",
    "import plotly.express as px\n",
    "\n",
    "chat_export = r'.\\result.json'\n",
    "members = r'.\\members.csv'\n",
    "#after_date = '2022-01-01' # uncomment if you want to work with data starting from a particular date\n",
    "\n",
    "#open json file\n",
    "with open(chat_export, encoding='utf8') as f:\n",
    "    d = json.load(f)\n",
    "\n",
    "members_df = pd.read_csv(members, dtype=str) #read members.csv\n",
    "members_df.columns = members_df.columns.str.replace(' ','_') #replace spaces in column names with underscore\n",
    "\n",
    "#normalize it according to parent node\n",
    "norm_msg = pd.json_normalize(d['messages'])\n",
    "msg_df = pd.DataFrame(norm_msg) # put messages into a dataframe\n",
    "msg_df.from_id = msg_df.from_id.str.replace('user','')\n",
    "if 'after_date' in globals(): # if after_date defined in global context then filter-out everything before that date\n",
    "    msg_df = msg_df[(msg_df['date'] >= after_date)]\n",
    "\n",
    "# show messages dataframe\n",
    "#msg_df.head()\n",
    "\n",
    "# show all message types\n",
    "#print(msg_df['type'].unique())\n",
    "\n",
    "# show all action types\n",
    "#print(msg_df['action'].unique())"
   ]
  },
  {
   "cell_type": "code",
   "execution_count": null,
   "metadata": {},
   "outputs": [],
   "source": [
    "msg_df_messages = msg_df[msg_df.type=='message'] #filter only message type message \n",
    "msg_df_messages = msg_df_messages[['date','text','from','from_id']] #filter important columns \n",
    "\n",
    "msg_df_joined = msg_df[(msg_df.action=='invite_members') | (msg_df.action=='join_group_by_link')] #filter only invite_members actions\n",
    "msg_df_joined = msg_df_joined[['date','action','actor','members']] #filter important columns \n",
    "msg_df_joined = msg_df_joined.rename({'members': 'added_members'}, axis='columns')\n",
    "msg_df_joined['joiners_count']=msg_df_joined.added_members.str.len() #add number of joined accounts per action\n",
    "msg_df_joined['join_type'] = msg_df_joined[msg_df_joined.action!='join_group_by_link'].apply\\\n",
    "    (\n",
    "    lambda row:\\\n",
    "        'joined' if (row.actor in row.added_members) and row.joiners_count == 1\\\n",
    "        else 'added', axis=1\\\n",
    "    ) #add join type: if actor in added_members and count of added_members is 1 then self-join otherwise added by actor\n",
    "\n",
    "\n",
    "msg_df_removed = msg_df[msg_df.action=='remove_members'] #filter only invite_members actions\n",
    "msg_df_removed = msg_df_removed[['date','action','actor','members']] #filter important columns\n",
    "msg_df_removed = msg_df_removed.rename({'members': 'deleted_members'}, axis='columns')\n",
    "msg_df_removed['removed_count']=msg_df_removed.deleted_members.str.len() #add number of removed accounts per action\n",
    "\n",
    "\n",
    "# msg_df_joined.info()\n",
    "# msg_df_removed.info()\n",
    "# msg_df_messages.info()\n"
   ]
  },
  {
   "cell_type": "code",
   "execution_count": null,
   "metadata": {},
   "outputs": [],
   "source": [
    "merged = pd.merge(msg_df_messages, members_df, left_on='from_id', right_on='user_id', how='outer') # full outer join of members list with messages df\n",
    "spies = merged[merged['from_id'].isnull()].copy()\n",
    "#spies_compact = spies_full[['username', 'user_id', 'name']] # get only users from members df who wrote zero messages\n",
    "\n",
    "quitters = merged[merged['user_id'].isnull()].copy() # get only users who has no entry in members export\n",
    "#quitters_compact = quitters_full[['from', 'from_id', 'text', 'date']]\n",
    "\n",
    "current_usr_msgs = merged.dropna(subset=['user_id']) # messages from actual users (skip quitters)\n",
    "\n",
    "# spies.info()\n",
    "# quitters.info()\n",
    "# current_usr_msgs.info()"
   ]
  },
  {
   "cell_type": "code",
   "execution_count": null,
   "metadata": {},
   "outputs": [],
   "source": [
    "# print some numbers\n",
    "print(f'{len(msg_df_messages.from_id.unique())} - # of unique users who wrote something')\n",
    "print(f'{len(members_df.user_id.unique())} - # of group members in exported list')\n",
    "print(f'{len(spies.user_id.unique())} - # of spies (wrote 0 messages)')\n",
    "print(f'{len(quitters.from_id.unique())} - # of quitters (wrote something but not in members exported)')"
   ]
  },
  {
   "cell_type": "code",
   "execution_count": null,
   "metadata": {},
   "outputs": [],
   "source": [
    "messages_sent_imp = current_usr_msgs['from_id'].value_counts()\n",
    "messages_sent_imp = messages_sent_imp.reset_index().rename(columns={'index':'user_id', 'from_id':'Count'})\n",
    "\n",
    "spies['Count'] = 0 # add column Count to spies df\n",
    "messages_sent_imp = pd.concat([messages_sent_imp, spies[['user_id', 'Count']]], ignore_index=True) # add spies to messages_sent_imp df\n",
    "\n",
    "fig_count_msgs = px.bar(messages_sent_imp.nlargest(20, 'Count'), x='user_id', y='Count', labels={'Count':'# of messages'})\n",
    "fig_count_msgs.show()"
   ]
  },
  {
   "cell_type": "code",
   "execution_count": null,
   "metadata": {},
   "outputs": [],
   "source": [
    "fig_hist_step1 = px.histogram(messages_sent_imp, x='Count', nbins=max(messages_sent_imp.Count)+1, range_x = list({0,15}), text_auto  = True)\n",
    "#dict(r=[1, 2, range(3,10), range(11, 50), range(51, 100), range(101, 500), range(501, max(messages_sent_imp.Count))])\n",
    "#messages_sent_imp.hist(bins=len(messages_sent_imp.Count.unique()))\n",
    "fig_hist_step1.update_xaxes(title='# of messages sent')\n",
    "fig_hist_step1.update_yaxes(title='# of users')\n",
    "fig_hist_step1.show()\n"
   ]
  },
  {
   "cell_type": "code",
   "execution_count": null,
   "metadata": {},
   "outputs": [],
   "source": [
    "out_df = pd.merge(messages_sent_imp, members_df, left_on='user_id', right_on='user_id') # df with usernames and number of messages ready for export"
   ]
  }
 ],
 "metadata": {
  "kernelspec": {
   "display_name": "Python 3.10.3 64-bit",
   "language": "python",
   "name": "python3"
  },
  "language_info": {
   "codemirror_mode": {
    "name": "ipython",
    "version": 3
   },
   "file_extension": ".py",
   "mimetype": "text/x-python",
   "name": "python",
   "nbconvert_exporter": "python",
   "pygments_lexer": "ipython3",
   "version": "3.10.3"
  },
  "orig_nbformat": 4,
  "vscode": {
   "interpreter": {
    "hash": "369f2c481f4da34e4445cda3fffd2e751bd1c4d706f27375911949ba6bb62e1c"
   }
  }
 },
 "nbformat": 4,
 "nbformat_minor": 2
}
